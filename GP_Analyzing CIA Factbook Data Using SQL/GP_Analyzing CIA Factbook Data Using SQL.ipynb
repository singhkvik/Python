{
 "cells": [
  {
   "cell_type": "markdown",
   "metadata": {},
   "source": [
    "## Analyzing CIA Factbook Data Using SQL"
   ]
  },
  {
   "cell_type": "markdown",
   "metadata": {},
   "source": [
    "The World Factbook provides basic intelligence on the history, people, government, economy, energy, geography, communications, transportation, military, terrorism, and transnational issues for 267 world entities.\n",
    "\n",
    "Tasks we will complete in this excercise:\n",
    "\n",
    "1. Connect jupyter notebook to the CIA factbook database\n",
    "2. Explore database\n",
    "3. Explore indivdual tables in the database\n",
    "4. Generate statistics from the \"facts\" table"
   ]
  },
  {
   "cell_type": "markdown",
   "metadata": {},
   "source": [
    "### Connecting juyter notebook to the CIA factbook database file i.e. factbook.db\n",
    "    1. Install following package: **!pip install ipython-sql**\n",
    "    2. Make sure that factbook.db is in the same folder as jupyter notebook"
   ]
  },
  {
   "cell_type": "code",
   "execution_count": 1,
   "metadata": {},
   "outputs": [],
   "source": [
    "%%capture\n",
    "%load_ext sql\n",
    "%sql sqlite:///factbook.db"
   ]
  },
  {
   "cell_type": "markdown",
   "metadata": {},
   "source": [
    "### Exploring the factbook.db database file"
   ]
  },
  {
   "cell_type": "code",
   "execution_count": 2,
   "metadata": {},
   "outputs": [
    {
     "name": "stdout",
     "output_type": "stream",
     "text": [
      " * sqlite:///factbook.db\n",
      "Done.\n"
     ]
    },
    {
     "data": {
      "text/html": [
       "<table>\n",
       "    <tr>\n",
       "        <th>type</th>\n",
       "        <th>name</th>\n",
       "        <th>tbl_name</th>\n",
       "        <th>rootpage</th>\n",
       "        <th>sql</th>\n",
       "    </tr>\n",
       "    <tr>\n",
       "        <td>table</td>\n",
       "        <td>sqlite_sequence</td>\n",
       "        <td>sqlite_sequence</td>\n",
       "        <td>3</td>\n",
       "        <td>CREATE TABLE sqlite_sequence(name,seq)</td>\n",
       "    </tr>\n",
       "    <tr>\n",
       "        <td>table</td>\n",
       "        <td>facts</td>\n",
       "        <td>facts</td>\n",
       "        <td>47</td>\n",
       "        <td>CREATE TABLE &quot;facts&quot; (&quot;id&quot; INTEGER PRIMARY KEY AUTOINCREMENT NOT NULL, &quot;code&quot; varchar(255) NOT NULL, &quot;name&quot; varchar(255) NOT NULL, &quot;area&quot; integer, &quot;area_land&quot; integer, &quot;area_water&quot; integer, &quot;population&quot; integer, &quot;population_growth&quot; float, &quot;birth_rate&quot; float, &quot;death_rate&quot; float, &quot;migration_rate&quot; float)</td>\n",
       "    </tr>\n",
       "</table>"
      ],
      "text/plain": [
       "[('table', 'sqlite_sequence', 'sqlite_sequence', 3, 'CREATE TABLE sqlite_sequence(name,seq)'),\n",
       " ('table', 'facts', 'facts', 47, 'CREATE TABLE \"facts\" (\"id\" INTEGER PRIMARY KEY AUTOINCREMENT NOT NULL, \"code\" varchar(255) NOT NULL, \"name\" varchar(255) NOT NULL, \"area\" integer, \"a ... (4 characters truncated) ... land\" integer, \"area_water\" integer, \"population\" integer, \"population_growth\" float, \"birth_rate\" float, \"death_rate\" float, \"migration_rate\" float)')]"
      ]
     },
     "execution_count": 2,
     "metadata": {},
     "output_type": "execute_result"
    }
   ],
   "source": [
    "%%sql\n",
    "\n",
    "SELECT *\n",
    "  FROM sqlite_master\n",
    " WHERE type='table';"
   ]
  },
  {
   "cell_type": "markdown",
   "metadata": {},
   "source": [
    "---\n",
    "\n",
    "**There are two different tables in the factbook.db:**\n",
    "\n",
    "1. sqlite_sequence\n",
    "2. facts\n",
    "\n",
    "Countries related data is stored in \"facts\" table, so we will explore that table further. "
   ]
  },
  {
   "cell_type": "markdown",
   "metadata": {},
   "source": [
    "### Exploring facts table:"
   ]
  },
  {
   "cell_type": "code",
   "execution_count": 3,
   "metadata": {},
   "outputs": [
    {
     "name": "stdout",
     "output_type": "stream",
     "text": [
      " * sqlite:///factbook.db\n",
      "Done.\n"
     ]
    },
    {
     "data": {
      "text/html": [
       "<table>\n",
       "    <tr>\n",
       "        <th>id</th>\n",
       "        <th>code</th>\n",
       "        <th>name</th>\n",
       "        <th>area</th>\n",
       "        <th>area_land</th>\n",
       "        <th>area_water</th>\n",
       "        <th>population</th>\n",
       "        <th>population_growth</th>\n",
       "        <th>birth_rate</th>\n",
       "        <th>death_rate</th>\n",
       "        <th>migration_rate</th>\n",
       "    </tr>\n",
       "    <tr>\n",
       "        <td>1</td>\n",
       "        <td>af</td>\n",
       "        <td>Afghanistan</td>\n",
       "        <td>652230</td>\n",
       "        <td>652230</td>\n",
       "        <td>0</td>\n",
       "        <td>32564342</td>\n",
       "        <td>2.32</td>\n",
       "        <td>38.57</td>\n",
       "        <td>13.89</td>\n",
       "        <td>1.51</td>\n",
       "    </tr>\n",
       "    <tr>\n",
       "        <td>2</td>\n",
       "        <td>al</td>\n",
       "        <td>Albania</td>\n",
       "        <td>28748</td>\n",
       "        <td>27398</td>\n",
       "        <td>1350</td>\n",
       "        <td>3029278</td>\n",
       "        <td>0.3</td>\n",
       "        <td>12.92</td>\n",
       "        <td>6.58</td>\n",
       "        <td>3.3</td>\n",
       "    </tr>\n",
       "    <tr>\n",
       "        <td>3</td>\n",
       "        <td>ag</td>\n",
       "        <td>Algeria</td>\n",
       "        <td>2381741</td>\n",
       "        <td>2381741</td>\n",
       "        <td>0</td>\n",
       "        <td>39542166</td>\n",
       "        <td>1.84</td>\n",
       "        <td>23.67</td>\n",
       "        <td>4.31</td>\n",
       "        <td>0.92</td>\n",
       "    </tr>\n",
       "    <tr>\n",
       "        <td>4</td>\n",
       "        <td>an</td>\n",
       "        <td>Andorra</td>\n",
       "        <td>468</td>\n",
       "        <td>468</td>\n",
       "        <td>0</td>\n",
       "        <td>85580</td>\n",
       "        <td>0.12</td>\n",
       "        <td>8.13</td>\n",
       "        <td>6.96</td>\n",
       "        <td>0.0</td>\n",
       "    </tr>\n",
       "    <tr>\n",
       "        <td>5</td>\n",
       "        <td>ao</td>\n",
       "        <td>Angola</td>\n",
       "        <td>1246700</td>\n",
       "        <td>1246700</td>\n",
       "        <td>0</td>\n",
       "        <td>19625353</td>\n",
       "        <td>2.78</td>\n",
       "        <td>38.78</td>\n",
       "        <td>11.49</td>\n",
       "        <td>0.46</td>\n",
       "    </tr>\n",
       "</table>"
      ],
      "text/plain": [
       "[(1, 'af', 'Afghanistan', 652230, 652230, 0, 32564342, 2.32, 38.57, 13.89, 1.51),\n",
       " (2, 'al', 'Albania', 28748, 27398, 1350, 3029278, 0.3, 12.92, 6.58, 3.3),\n",
       " (3, 'ag', 'Algeria', 2381741, 2381741, 0, 39542166, 1.84, 23.67, 4.31, 0.92),\n",
       " (4, 'an', 'Andorra', 468, 468, 0, 85580, 0.12, 8.13, 6.96, 0.0),\n",
       " (5, 'ao', 'Angola', 1246700, 1246700, 0, 19625353, 2.78, 38.78, 11.49, 0.46)]"
      ]
     },
     "execution_count": 3,
     "metadata": {},
     "output_type": "execute_result"
    }
   ],
   "source": [
    "%%sql\n",
    "\n",
    "SELECT * \n",
    "    FROM facts\n",
    "    LIMIT 5;"
   ]
  },
  {
   "cell_type": "markdown",
   "metadata": {},
   "source": [
    "Here are the descriptions for some of the columns:\n",
    "\n",
    "* **name** — the name of the country.\n",
    "* **area**— the country's total area (both land and water).\n",
    "* **area_land** — the country's land area in square kilometers.\n",
    "* **area_water** — the country's waterarea in square kilometers.\n",
    "* **population** — the country's population.\n",
    "* **population_growth** — the country's population growth as a percentage.\n",
    "* **birth_rate** — the country's birth rate, or the number of births per year per 1,000 people.\n",
    "* **death_rate** — the country's death rate, or the number of death per year per 1,000 people."
   ]
  },
  {
   "cell_type": "markdown",
   "metadata": {},
   "source": [
    "### Generate Statistics"
   ]
  },
  {
   "cell_type": "markdown",
   "metadata": {},
   "source": [
    "Min,Max of \"population\" and \"population growth\""
   ]
  },
  {
   "cell_type": "code",
   "execution_count": 4,
   "metadata": {},
   "outputs": [
    {
     "name": "stdout",
     "output_type": "stream",
     "text": [
      " * sqlite:///factbook.db\n",
      "Done.\n"
     ]
    },
    {
     "data": {
      "text/html": [
       "<table>\n",
       "    <tr>\n",
       "        <th>MIN(population)</th>\n",
       "        <th>MAX(population)</th>\n",
       "        <th>MIN(population_growth)</th>\n",
       "        <th>MAX(population_growth)</th>\n",
       "    </tr>\n",
       "    <tr>\n",
       "        <td>0</td>\n",
       "        <td>7256490011</td>\n",
       "        <td>0.0</td>\n",
       "        <td>4.02</td>\n",
       "    </tr>\n",
       "</table>"
      ],
      "text/plain": [
       "[(0, 7256490011, 0.0, 4.02)]"
      ]
     },
     "execution_count": 4,
     "metadata": {},
     "output_type": "execute_result"
    }
   ],
   "source": [
    "%%sql\n",
    "\n",
    "SELECT MIN(population), MAX(population), MIN(population_growth), MAX(population_growth)\n",
    "    FROM facts;"
   ]
  },
  {
   "cell_type": "markdown",
   "metadata": {},
   "source": [
    "From this search we can see that minimum population of a country is 0 and maximum is 7.2 billion. Both of these populations seem unrealistic. Let's find out to which country they refer to.\n",
    "\n",
    "Minimum Population:"
   ]
  },
  {
   "cell_type": "code",
   "execution_count": 5,
   "metadata": {},
   "outputs": [
    {
     "name": "stdout",
     "output_type": "stream",
     "text": [
      " * sqlite:///factbook.db\n",
      "Done.\n"
     ]
    },
    {
     "data": {
      "text/html": [
       "<table>\n",
       "    <tr>\n",
       "        <th>id</th>\n",
       "        <th>code</th>\n",
       "        <th>name</th>\n",
       "        <th>area</th>\n",
       "        <th>area_land</th>\n",
       "        <th>area_water</th>\n",
       "        <th>population</th>\n",
       "        <th>population_growth</th>\n",
       "        <th>birth_rate</th>\n",
       "        <th>death_rate</th>\n",
       "        <th>migration_rate</th>\n",
       "    </tr>\n",
       "    <tr>\n",
       "        <td>250</td>\n",
       "        <td>ay</td>\n",
       "        <td>Antarctica</td>\n",
       "        <td>None</td>\n",
       "        <td>280000</td>\n",
       "        <td>None</td>\n",
       "        <td>0</td>\n",
       "        <td>None</td>\n",
       "        <td>None</td>\n",
       "        <td>None</td>\n",
       "        <td>None</td>\n",
       "    </tr>\n",
       "</table>"
      ],
      "text/plain": [
       "[(250, 'ay', 'Antarctica', None, 280000, None, 0, None, None, None, None)]"
      ]
     },
     "execution_count": 5,
     "metadata": {},
     "output_type": "execute_result"
    }
   ],
   "source": [
    "%%sql\n",
    "\n",
    "SELECT *\n",
    "    FROM facts\n",
    "   WHERE population == (SELECT MIN(population) FROM facts)"
   ]
  },
  {
   "cell_type": "markdown",
   "metadata": {},
   "source": [
    "---\n",
    "Maximum Population:"
   ]
  },
  {
   "cell_type": "code",
   "execution_count": 6,
   "metadata": {},
   "outputs": [
    {
     "name": "stdout",
     "output_type": "stream",
     "text": [
      " * sqlite:///factbook.db\n",
      "Done.\n"
     ]
    },
    {
     "data": {
      "text/html": [
       "<table>\n",
       "    <tr>\n",
       "        <th>id</th>\n",
       "        <th>code</th>\n",
       "        <th>name</th>\n",
       "        <th>area</th>\n",
       "        <th>area_land</th>\n",
       "        <th>area_water</th>\n",
       "        <th>population</th>\n",
       "        <th>population_growth</th>\n",
       "        <th>birth_rate</th>\n",
       "        <th>death_rate</th>\n",
       "        <th>migration_rate</th>\n",
       "    </tr>\n",
       "    <tr>\n",
       "        <td>261</td>\n",
       "        <td>xx</td>\n",
       "        <td>World</td>\n",
       "        <td>None</td>\n",
       "        <td>None</td>\n",
       "        <td>None</td>\n",
       "        <td>7256490011</td>\n",
       "        <td>1.08</td>\n",
       "        <td>18.6</td>\n",
       "        <td>7.8</td>\n",
       "        <td>None</td>\n",
       "    </tr>\n",
       "</table>"
      ],
      "text/plain": [
       "[(261, 'xx', 'World', None, None, None, 7256490011, 1.08, 18.6, 7.8, None)]"
      ]
     },
     "execution_count": 6,
     "metadata": {},
     "output_type": "execute_result"
    }
   ],
   "source": [
    "%%sql\n",
    "\n",
    "SELECT *\n",
    "    FROM facts\n",
    "   WHERE population == (SELECT MAX(population) FROM facts)"
   ]
  },
  {
   "cell_type": "markdown",
   "metadata": {},
   "source": [
    "So, minimum population of 0 belongs to Antarctica and 7.2 billion is the world population. Going forward, we will exclude world population from our calculation for accurate result.\n",
    "\n",
    "#### Recalculating Min/Max statistics after dropping world population figures:"
   ]
  },
  {
   "cell_type": "code",
   "execution_count": 7,
   "metadata": {},
   "outputs": [
    {
     "name": "stdout",
     "output_type": "stream",
     "text": [
      " * sqlite:///factbook.db\n",
      "Done.\n"
     ]
    },
    {
     "data": {
      "text/html": [
       "<table>\n",
       "    <tr>\n",
       "        <th>MIN(population)</th>\n",
       "        <th>MAX(population)</th>\n",
       "        <th>MIN(population_growth)</th>\n",
       "        <th>MAX(population_growth)</th>\n",
       "    </tr>\n",
       "    <tr>\n",
       "        <td>0</td>\n",
       "        <td>1367485388</td>\n",
       "        <td>0.0</td>\n",
       "        <td>4.02</td>\n",
       "    </tr>\n",
       "</table>"
      ],
      "text/plain": [
       "[(0, 1367485388, 0.0, 4.02)]"
      ]
     },
     "execution_count": 7,
     "metadata": {},
     "output_type": "execute_result"
    }
   ],
   "source": [
    "%%sql\n",
    "\n",
    "SELECT MIN(population), MAX(population), MIN(population_growth), MAX(population_growth)\n",
    "    FROM facts\n",
    "   WHERE population <> (SELECT MAX(population) FROM facts)"
   ]
  },
  {
   "cell_type": "markdown",
   "metadata": {},
   "source": [
    "---\n",
    "#### Let's find all countries meeting both of the following criteria:\n",
    "\n",
    "1. The population is above average.\n",
    "2. The area is below average."
   ]
  },
  {
   "cell_type": "code",
   "execution_count": 8,
   "metadata": {},
   "outputs": [
    {
     "name": "stdout",
     "output_type": "stream",
     "text": [
      " * sqlite:///factbook.db\n",
      "Done.\n"
     ]
    },
    {
     "data": {
      "text/html": [
       "<table>\n",
       "    <tr>\n",
       "        <th>id</th>\n",
       "        <th>code</th>\n",
       "        <th>name</th>\n",
       "        <th>area</th>\n",
       "        <th>area_land</th>\n",
       "        <th>area_water</th>\n",
       "        <th>population</th>\n",
       "        <th>population_growth</th>\n",
       "        <th>birth_rate</th>\n",
       "        <th>death_rate</th>\n",
       "        <th>migration_rate</th>\n",
       "    </tr>\n",
       "    <tr>\n",
       "        <td>14</td>\n",
       "        <td>bg</td>\n",
       "        <td>Bangladesh</td>\n",
       "        <td>148460</td>\n",
       "        <td>130170</td>\n",
       "        <td>18290</td>\n",
       "        <td>168957745</td>\n",
       "        <td>1.6</td>\n",
       "        <td>21.14</td>\n",
       "        <td>5.61</td>\n",
       "        <td>0.46</td>\n",
       "    </tr>\n",
       "    <tr>\n",
       "        <td>65</td>\n",
       "        <td>gm</td>\n",
       "        <td>Germany</td>\n",
       "        <td>357022</td>\n",
       "        <td>348672</td>\n",
       "        <td>8350</td>\n",
       "        <td>80854408</td>\n",
       "        <td>0.17</td>\n",
       "        <td>8.47</td>\n",
       "        <td>11.42</td>\n",
       "        <td>1.24</td>\n",
       "    </tr>\n",
       "    <tr>\n",
       "        <td>80</td>\n",
       "        <td>iz</td>\n",
       "        <td>Iraq</td>\n",
       "        <td>438317</td>\n",
       "        <td>437367</td>\n",
       "        <td>950</td>\n",
       "        <td>37056169</td>\n",
       "        <td>2.93</td>\n",
       "        <td>31.45</td>\n",
       "        <td>3.77</td>\n",
       "        <td>1.62</td>\n",
       "    </tr>\n",
       "    <tr>\n",
       "        <td>83</td>\n",
       "        <td>it</td>\n",
       "        <td>Italy</td>\n",
       "        <td>301340</td>\n",
       "        <td>294140</td>\n",
       "        <td>7200</td>\n",
       "        <td>61855120</td>\n",
       "        <td>0.27</td>\n",
       "        <td>8.74</td>\n",
       "        <td>10.19</td>\n",
       "        <td>4.1</td>\n",
       "    </tr>\n",
       "    <tr>\n",
       "        <td>85</td>\n",
       "        <td>ja</td>\n",
       "        <td>Japan</td>\n",
       "        <td>377915</td>\n",
       "        <td>364485</td>\n",
       "        <td>13430</td>\n",
       "        <td>126919659</td>\n",
       "        <td>0.16</td>\n",
       "        <td>7.93</td>\n",
       "        <td>9.51</td>\n",
       "        <td>0.0</td>\n",
       "    </tr>\n",
       "    <tr>\n",
       "        <td>88</td>\n",
       "        <td>ke</td>\n",
       "        <td>Kenya</td>\n",
       "        <td>580367</td>\n",
       "        <td>569140</td>\n",
       "        <td>11227</td>\n",
       "        <td>45925301</td>\n",
       "        <td>1.93</td>\n",
       "        <td>26.4</td>\n",
       "        <td>6.89</td>\n",
       "        <td>0.22</td>\n",
       "    </tr>\n",
       "    <tr>\n",
       "        <td>91</td>\n",
       "        <td>ks</td>\n",
       "        <td>Korea, South</td>\n",
       "        <td>99720</td>\n",
       "        <td>96920</td>\n",
       "        <td>2800</td>\n",
       "        <td>49115196</td>\n",
       "        <td>0.14</td>\n",
       "        <td>8.19</td>\n",
       "        <td>6.75</td>\n",
       "        <td>0.0</td>\n",
       "    </tr>\n",
       "    <tr>\n",
       "        <td>120</td>\n",
       "        <td>mo</td>\n",
       "        <td>Morocco</td>\n",
       "        <td>446550</td>\n",
       "        <td>446300</td>\n",
       "        <td>250</td>\n",
       "        <td>33322699</td>\n",
       "        <td>1.0</td>\n",
       "        <td>18.2</td>\n",
       "        <td>4.81</td>\n",
       "        <td>3.36</td>\n",
       "    </tr>\n",
       "    <tr>\n",
       "        <td>138</td>\n",
       "        <td>rp</td>\n",
       "        <td>Philippines</td>\n",
       "        <td>300000</td>\n",
       "        <td>298170</td>\n",
       "        <td>1830</td>\n",
       "        <td>100998376</td>\n",
       "        <td>1.61</td>\n",
       "        <td>24.27</td>\n",
       "        <td>6.11</td>\n",
       "        <td>2.09</td>\n",
       "    </tr>\n",
       "    <tr>\n",
       "        <td>139</td>\n",
       "        <td>pl</td>\n",
       "        <td>Poland</td>\n",
       "        <td>312685</td>\n",
       "        <td>304255</td>\n",
       "        <td>8430</td>\n",
       "        <td>38562189</td>\n",
       "        <td>0.09</td>\n",
       "        <td>9.74</td>\n",
       "        <td>10.19</td>\n",
       "        <td>0.46</td>\n",
       "    </tr>\n",
       "    <tr>\n",
       "        <td>163</td>\n",
       "        <td>sp</td>\n",
       "        <td>Spain</td>\n",
       "        <td>505370</td>\n",
       "        <td>498980</td>\n",
       "        <td>6390</td>\n",
       "        <td>48146134</td>\n",
       "        <td>0.89</td>\n",
       "        <td>9.64</td>\n",
       "        <td>9.04</td>\n",
       "        <td>8.31</td>\n",
       "    </tr>\n",
       "    <tr>\n",
       "        <td>173</td>\n",
       "        <td>th</td>\n",
       "        <td>Thailand</td>\n",
       "        <td>513120</td>\n",
       "        <td>510890</td>\n",
       "        <td>2230</td>\n",
       "        <td>67976405</td>\n",
       "        <td>0.34</td>\n",
       "        <td>11.19</td>\n",
       "        <td>7.8</td>\n",
       "        <td>0.0</td>\n",
       "    </tr>\n",
       "    <tr>\n",
       "        <td>182</td>\n",
       "        <td>ug</td>\n",
       "        <td>Uganda</td>\n",
       "        <td>241038</td>\n",
       "        <td>197100</td>\n",
       "        <td>43938</td>\n",
       "        <td>37101745</td>\n",
       "        <td>3.24</td>\n",
       "        <td>43.79</td>\n",
       "        <td>10.69</td>\n",
       "        <td>0.74</td>\n",
       "    </tr>\n",
       "    <tr>\n",
       "        <td>185</td>\n",
       "        <td>uk</td>\n",
       "        <td>United Kingdom</td>\n",
       "        <td>243610</td>\n",
       "        <td>241930</td>\n",
       "        <td>1680</td>\n",
       "        <td>64088222</td>\n",
       "        <td>0.54</td>\n",
       "        <td>12.17</td>\n",
       "        <td>9.35</td>\n",
       "        <td>2.54</td>\n",
       "    </tr>\n",
       "    <tr>\n",
       "        <td>192</td>\n",
       "        <td>vm</td>\n",
       "        <td>Vietnam</td>\n",
       "        <td>331210</td>\n",
       "        <td>310070</td>\n",
       "        <td>21140</td>\n",
       "        <td>94348835</td>\n",
       "        <td>0.97</td>\n",
       "        <td>15.96</td>\n",
       "        <td>5.93</td>\n",
       "        <td>0.3</td>\n",
       "    </tr>\n",
       "</table>"
      ],
      "text/plain": [
       "[(14, 'bg', 'Bangladesh', 148460, 130170, 18290, 168957745, 1.6, 21.14, 5.61, 0.46),\n",
       " (65, 'gm', 'Germany', 357022, 348672, 8350, 80854408, 0.17, 8.47, 11.42, 1.24),\n",
       " (80, 'iz', 'Iraq', 438317, 437367, 950, 37056169, 2.93, 31.45, 3.77, 1.62),\n",
       " (83, 'it', 'Italy', 301340, 294140, 7200, 61855120, 0.27, 8.74, 10.19, 4.1),\n",
       " (85, 'ja', 'Japan', 377915, 364485, 13430, 126919659, 0.16, 7.93, 9.51, 0.0),\n",
       " (88, 'ke', 'Kenya', 580367, 569140, 11227, 45925301, 1.93, 26.4, 6.89, 0.22),\n",
       " (91, 'ks', 'Korea, South', 99720, 96920, 2800, 49115196, 0.14, 8.19, 6.75, 0.0),\n",
       " (120, 'mo', 'Morocco', 446550, 446300, 250, 33322699, 1.0, 18.2, 4.81, 3.36),\n",
       " (138, 'rp', 'Philippines', 300000, 298170, 1830, 100998376, 1.61, 24.27, 6.11, 2.09),\n",
       " (139, 'pl', 'Poland', 312685, 304255, 8430, 38562189, 0.09, 9.74, 10.19, 0.46),\n",
       " (163, 'sp', 'Spain', 505370, 498980, 6390, 48146134, 0.89, 9.64, 9.04, 8.31),\n",
       " (173, 'th', 'Thailand', 513120, 510890, 2230, 67976405, 0.34, 11.19, 7.8, 0.0),\n",
       " (182, 'ug', 'Uganda', 241038, 197100, 43938, 37101745, 3.24, 43.79, 10.69, 0.74),\n",
       " (185, 'uk', 'United Kingdom', 243610, 241930, 1680, 64088222, 0.54, 12.17, 9.35, 2.54),\n",
       " (192, 'vm', 'Vietnam', 331210, 310070, 21140, 94348835, 0.97, 15.96, 5.93, 0.3)]"
      ]
     },
     "execution_count": 8,
     "metadata": {},
     "output_type": "execute_result"
    }
   ],
   "source": [
    "%%sql\n",
    "\n",
    "SELECT *\n",
    "    FROM facts\n",
    "   WHERE population > (SELECT AVG(population) FROM facts WHERE population <> (SELECT MAX(population) FROM facts))\n",
    "   AND area < (SELECT AVG(area) FROM facts WHERE population <> (SELECT MAX(population) FROM facts))"
   ]
  },
  {
   "cell_type": "markdown",
   "metadata": {},
   "source": [
    "---\n",
    "#### Which country has the most people? Which country has the highest growth rate? "
   ]
  },
  {
   "cell_type": "code",
   "execution_count": 9,
   "metadata": {},
   "outputs": [
    {
     "name": "stdout",
     "output_type": "stream",
     "text": [
      " * sqlite:///factbook.db\n",
      "Done.\n"
     ]
    },
    {
     "data": {
      "text/html": [
       "<table>\n",
       "    <tr>\n",
       "        <th>name</th>\n",
       "        <th>MAX(population)</th>\n",
       "    </tr>\n",
       "    <tr>\n",
       "        <td>China</td>\n",
       "        <td>1367485388</td>\n",
       "    </tr>\n",
       "</table>"
      ],
      "text/plain": [
       "[('China', 1367485388)]"
      ]
     },
     "execution_count": 9,
     "metadata": {},
     "output_type": "execute_result"
    }
   ],
   "source": [
    "%%sql\n",
    "\n",
    "SELECT name, MAX(population)\n",
    "    FROM facts\n",
    "   WHERE population <> (SELECT MAX(population) FROM facts)"
   ]
  },
  {
   "cell_type": "code",
   "execution_count": 10,
   "metadata": {},
   "outputs": [
    {
     "name": "stdout",
     "output_type": "stream",
     "text": [
      " * sqlite:///factbook.db\n",
      "Done.\n"
     ]
    },
    {
     "data": {
      "text/html": [
       "<table>\n",
       "    <tr>\n",
       "        <th>name</th>\n",
       "        <th>MAX(population_growth)</th>\n",
       "    </tr>\n",
       "    <tr>\n",
       "        <td>South Sudan</td>\n",
       "        <td>4.02</td>\n",
       "    </tr>\n",
       "</table>"
      ],
      "text/plain": [
       "[('South Sudan', 4.02)]"
      ]
     },
     "execution_count": 10,
     "metadata": {},
     "output_type": "execute_result"
    }
   ],
   "source": [
    "%%sql\n",
    "\n",
    "SELECT name, MAX(population_growth)\n",
    "    FROM facts\n",
    "   WHERE population <> (SELECT MAX(population) FROM facts)"
   ]
  },
  {
   "cell_type": "markdown",
   "metadata": {},
   "source": [
    "---\n",
    "#### Which countries have the highest ratios of water to land? Which countries have more water than land?"
   ]
  },
  {
   "cell_type": "code",
   "execution_count": 11,
   "metadata": {},
   "outputs": [
    {
     "name": "stdout",
     "output_type": "stream",
     "text": [
      " * sqlite:///factbook.db\n",
      "Done.\n"
     ]
    },
    {
     "data": {
      "text/html": [
       "<table>\n",
       "    <tr>\n",
       "        <th>name</th>\n",
       "        <th>MAX(area_water/area_land)</th>\n",
       "    </tr>\n",
       "    <tr>\n",
       "        <td>Virgin Islands</td>\n",
       "        <td>4</td>\n",
       "    </tr>\n",
       "</table>"
      ],
      "text/plain": [
       "[('Virgin Islands', 4)]"
      ]
     },
     "execution_count": 11,
     "metadata": {},
     "output_type": "execute_result"
    }
   ],
   "source": [
    "%%sql\n",
    "\n",
    "SELECT name, MAX(area_water/area_land)\n",
    "    FROM facts\n",
    "   WHERE population <> (SELECT MAX(population) FROM facts)"
   ]
  },
  {
   "cell_type": "code",
   "execution_count": 20,
   "metadata": {},
   "outputs": [
    {
     "name": "stdout",
     "output_type": "stream",
     "text": [
      " * sqlite:///factbook.db\n",
      "Done.\n"
     ]
    },
    {
     "data": {
      "text/html": [
       "<table>\n",
       "    <tr>\n",
       "        <th>name</th>\n",
       "        <th>more_water</th>\n",
       "    </tr>\n",
       "    <tr>\n",
       "        <td>British Indian Ocean Territory</td>\n",
       "        <td>54280</td>\n",
       "    </tr>\n",
       "    <tr>\n",
       "        <td>Virgin Islands</td>\n",
       "        <td>1218</td>\n",
       "    </tr>\n",
       "</table>"
      ],
      "text/plain": [
       "[('British Indian Ocean Territory', 54280), ('Virgin Islands', 1218)]"
      ]
     },
     "execution_count": 20,
     "metadata": {},
     "output_type": "execute_result"
    }
   ],
   "source": [
    "%%sql\n",
    "\n",
    "SELECT name, (area_water-area_land) AS more_water\n",
    "    FROM facts\n",
    "   WHERE more_water > 0"
   ]
  },
  {
   "cell_type": "markdown",
   "metadata": {},
   "source": [
    "---\n",
    "#### Which countries will add the most people to their populations next year?"
   ]
  },
  {
   "cell_type": "code",
   "execution_count": 13,
   "metadata": {},
   "outputs": [
    {
     "name": "stdout",
     "output_type": "stream",
     "text": [
      " * sqlite:///factbook.db\n",
      "Done.\n"
     ]
    },
    {
     "data": {
      "text/html": [
       "<table>\n",
       "    <tr>\n",
       "        <th>name</th>\n",
       "        <th>new_people</th>\n",
       "    </tr>\n",
       "    <tr>\n",
       "        <td>India</td>\n",
       "        <td>1527068612.48</td>\n",
       "    </tr>\n",
       "    <tr>\n",
       "        <td>China</td>\n",
       "        <td>615368424.6</td>\n",
       "    </tr>\n",
       "    <tr>\n",
       "        <td>Nigeria</td>\n",
       "        <td>444827037.20000005</td>\n",
       "    </tr>\n",
       "    <tr>\n",
       "        <td>Pakistan</td>\n",
       "        <td>290665336.62</td>\n",
       "    </tr>\n",
       "    <tr>\n",
       "        <td>Ethiopia</td>\n",
       "        <td>287456216.91</td>\n",
       "    </tr>\n",
       "</table>"
      ],
      "text/plain": [
       "[('India', 1527068612.48),\n",
       " ('China', 615368424.6),\n",
       " ('Nigeria', 444827037.20000005),\n",
       " ('Pakistan', 290665336.62),\n",
       " ('Ethiopia', 287456216.91)]"
      ]
     },
     "execution_count": 13,
     "metadata": {},
     "output_type": "execute_result"
    }
   ],
   "source": [
    "%%sql\n",
    "\n",
    "SELECT name, (population * population_growth) AS new_people\n",
    "    FROM facts\n",
    "   WHERE population <> (SELECT MAX(population) FROM facts)\n",
    "   ORDER BY new_people DESC\n",
    "   LIMIT 5;"
   ]
  },
  {
   "cell_type": "markdown",
   "metadata": {},
   "source": [
    "---\n",
    "#### Which countries have a higher death rate than birth rate?"
   ]
  },
  {
   "cell_type": "code",
   "execution_count": 14,
   "metadata": {},
   "outputs": [
    {
     "name": "stdout",
     "output_type": "stream",
     "text": [
      " * sqlite:///factbook.db\n",
      "Done.\n"
     ]
    },
    {
     "data": {
      "text/html": [
       "<table>\n",
       "    <tr>\n",
       "        <th>name</th>\n",
       "        <th>more_birth</th>\n",
       "    </tr>\n",
       "    <tr>\n",
       "        <td>Malawi</td>\n",
       "        <td>33.2</td>\n",
       "    </tr>\n",
       "    <tr>\n",
       "        <td>Uganda</td>\n",
       "        <td>33.1</td>\n",
       "    </tr>\n",
       "    <tr>\n",
       "        <td>Niger</td>\n",
       "        <td>33.0</td>\n",
       "    </tr>\n",
       "    <tr>\n",
       "        <td>Burundi</td>\n",
       "        <td>32.7</td>\n",
       "    </tr>\n",
       "    <tr>\n",
       "        <td>Mali</td>\n",
       "        <td>32.1</td>\n",
       "    </tr>\n",
       "</table>"
      ],
      "text/plain": [
       "[('Malawi', 33.2),\n",
       " ('Uganda', 33.1),\n",
       " ('Niger', 33.0),\n",
       " ('Burundi', 32.7),\n",
       " ('Mali', 32.1)]"
      ]
     },
     "execution_count": 14,
     "metadata": {},
     "output_type": "execute_result"
    }
   ],
   "source": [
    "%%sql\n",
    "\n",
    "SELECT name, ROUND(birth_rate-death_rate,1) AS more_birth\n",
    "    FROM facts\n",
    "   WHERE more_birth > 0\n",
    "   ORDER BY more_birth DESC\n",
    "   LIMIT 5;"
   ]
  },
  {
   "cell_type": "markdown",
   "metadata": {},
   "source": [
    "---\n",
    "#### Which countries have the highest population/area ratio, and how does it compare to list we found in the previous screen?"
   ]
  },
  {
   "cell_type": "code",
   "execution_count": 23,
   "metadata": {},
   "outputs": [
    {
     "name": "stdout",
     "output_type": "stream",
     "text": [
      " * sqlite:///factbook.db\n",
      "Done.\n"
     ]
    },
    {
     "data": {
      "text/html": [
       "<table>\n",
       "    <tr>\n",
       "        <th>name</th>\n",
       "        <th>pop_area_ratio</th>\n",
       "    </tr>\n",
       "    <tr>\n",
       "        <td>Chad</td>\n",
       "        <td>None</td>\n",
       "    </tr>\n",
       "    <tr>\n",
       "        <td>Niger</td>\n",
       "        <td>None</td>\n",
       "    </tr>\n",
       "    <tr>\n",
       "        <td>Holy See (Vatican City)</td>\n",
       "        <td>None</td>\n",
       "    </tr>\n",
       "    <tr>\n",
       "        <td>Ashmore and Cartier Islands</td>\n",
       "        <td>None</td>\n",
       "    </tr>\n",
       "    <tr>\n",
       "        <td>Coral Sea Islands</td>\n",
       "        <td>None</td>\n",
       "    </tr>\n",
       "</table>"
      ],
      "text/plain": [
       "[('Chad', None),\n",
       " ('Niger', None),\n",
       " ('Holy See (Vatican City)', None),\n",
       " ('Ashmore and Cartier Islands', None),\n",
       " ('Coral Sea Islands', None)]"
      ]
     },
     "execution_count": 23,
     "metadata": {},
     "output_type": "execute_result"
    }
   ],
   "source": [
    "\n",
    "%%sql\n",
    "\n",
    "SELECT name, (CAST(population AS Float)/CAST(area AS Float)) AS pop_area_ratio\n",
    "    FROM facts\n",
    "   ORDER BY pop_area_ratio\n",
    "   LIMIT 5;"
   ]
  },
  {
   "cell_type": "markdown",
   "metadata": {},
   "source": [
    "**This wasn't the result we were expecting here. So let's explore the dataset for these countries and see what information is present in the population and area columns for these countries**"
   ]
  },
  {
   "cell_type": "code",
   "execution_count": 16,
   "metadata": {},
   "outputs": [
    {
     "name": "stdout",
     "output_type": "stream",
     "text": [
      " * sqlite:///factbook.db\n",
      "Done.\n"
     ]
    },
    {
     "data": {
      "text/html": [
       "<table>\n",
       "    <tr>\n",
       "        <th>name</th>\n",
       "        <th>population</th>\n",
       "        <th>area</th>\n",
       "    </tr>\n",
       "    <tr>\n",
       "        <td>Chad</td>\n",
       "        <td>11631456</td>\n",
       "        <td>None</td>\n",
       "    </tr>\n",
       "    <tr>\n",
       "        <td>Niger</td>\n",
       "        <td>18045729</td>\n",
       "        <td>None</td>\n",
       "    </tr>\n",
       "    <tr>\n",
       "        <td>Holy See (Vatican City)</td>\n",
       "        <td>842</td>\n",
       "        <td>0</td>\n",
       "    </tr>\n",
       "    <tr>\n",
       "        <td>Ashmore and Cartier Islands</td>\n",
       "        <td>None</td>\n",
       "        <td>5</td>\n",
       "    </tr>\n",
       "    <tr>\n",
       "        <td>Coral Sea Islands</td>\n",
       "        <td>None</td>\n",
       "        <td>3</td>\n",
       "    </tr>\n",
       "</table>"
      ],
      "text/plain": [
       "[('Chad', 11631456, None),\n",
       " ('Niger', 18045729, None),\n",
       " ('Holy See (Vatican City)', 842, 0),\n",
       " ('Ashmore and Cartier Islands', None, 5),\n",
       " ('Coral Sea Islands', None, 3)]"
      ]
     },
     "execution_count": 16,
     "metadata": {},
     "output_type": "execute_result"
    }
   ],
   "source": [
    "%%sql\n",
    "\n",
    "SELECT name, population, area\n",
    "    FROM facts\n",
    "   WHERE name IN ('Chad', 'Niger', 'Holy See (Vatican City)', 'Ashmore and Cartier Islands', 'Coral Sea Islands')"
   ]
  },
  {
   "cell_type": "markdown",
   "metadata": {},
   "source": [
    "We can see that population and area columns have \"None\" or \"0\" values for these countries. So, when calculating the population/area ratio we will have to ignore these countries."
   ]
  },
  {
   "cell_type": "code",
   "execution_count": 17,
   "metadata": {},
   "outputs": [
    {
     "name": "stdout",
     "output_type": "stream",
     "text": [
      " * sqlite:///factbook.db\n",
      "Done.\n"
     ]
    },
    {
     "data": {
      "text/html": [
       "<table>\n",
       "    <tr>\n",
       "        <th>name</th>\n",
       "        <th>pop_area_ratio</th>\n",
       "    </tr>\n",
       "    <tr>\n",
       "        <td>Macau</td>\n",
       "        <td>21168.96</td>\n",
       "    </tr>\n",
       "    <tr>\n",
       "        <td>Monaco</td>\n",
       "        <td>15267.5</td>\n",
       "    </tr>\n",
       "    <tr>\n",
       "        <td>Singapore</td>\n",
       "        <td>8141.28</td>\n",
       "    </tr>\n",
       "    <tr>\n",
       "        <td>Hong Kong</td>\n",
       "        <td>6445.04</td>\n",
       "    </tr>\n",
       "    <tr>\n",
       "        <td>Gaza Strip</td>\n",
       "        <td>5191.82</td>\n",
       "    </tr>\n",
       "</table>"
      ],
      "text/plain": [
       "[('Macau', 21168.96),\n",
       " ('Monaco', 15267.5),\n",
       " ('Singapore', 8141.28),\n",
       " ('Hong Kong', 6445.04),\n",
       " ('Gaza Strip', 5191.82)]"
      ]
     },
     "execution_count": 17,
     "metadata": {},
     "output_type": "execute_result"
    }
   ],
   "source": [
    "%%sql\n",
    "\n",
    "SELECT name, ROUND(CAST(population AS Float)/CAST(area AS Float),2) AS pop_area_ratio\n",
    "    FROM facts\n",
    "   WHERE population NOT IN ('None', '0') AND area NOT IN ('None', '0')\n",
    "   ORDER BY pop_area_ratio DESC\n",
    "   LIMIT 5;"
   ]
  },
  {
   "cell_type": "markdown",
   "metadata": {},
   "source": [
    "**Let's calculate the pop_area_ratio for the countries, which have population above average and area below average.**"
   ]
  },
  {
   "cell_type": "code",
   "execution_count": 25,
   "metadata": {
    "scrolled": true
   },
   "outputs": [
    {
     "name": "stdout",
     "output_type": "stream",
     "text": [
      " * sqlite:///factbook.db\n",
      "Done.\n"
     ]
    },
    {
     "data": {
      "text/html": [
       "<table>\n",
       "    <tr>\n",
       "        <th>name</th>\n",
       "        <th>pop_area_ratio</th>\n",
       "    </tr>\n",
       "    <tr>\n",
       "        <td>Bangladesh</td>\n",
       "        <td>1138.07</td>\n",
       "    </tr>\n",
       "    <tr>\n",
       "        <td>Korea, South</td>\n",
       "        <td>492.53</td>\n",
       "    </tr>\n",
       "    <tr>\n",
       "        <td>Philippines</td>\n",
       "        <td>336.66</td>\n",
       "    </tr>\n",
       "    <tr>\n",
       "        <td>Japan</td>\n",
       "        <td>335.84</td>\n",
       "    </tr>\n",
       "    <tr>\n",
       "        <td>Vietnam</td>\n",
       "        <td>284.86</td>\n",
       "    </tr>\n",
       "    <tr>\n",
       "        <td>United Kingdom</td>\n",
       "        <td>263.08</td>\n",
       "    </tr>\n",
       "    <tr>\n",
       "        <td>Germany</td>\n",
       "        <td>226.47</td>\n",
       "    </tr>\n",
       "    <tr>\n",
       "        <td>Italy</td>\n",
       "        <td>205.27</td>\n",
       "    </tr>\n",
       "    <tr>\n",
       "        <td>Uganda</td>\n",
       "        <td>153.92</td>\n",
       "    </tr>\n",
       "    <tr>\n",
       "        <td>Thailand</td>\n",
       "        <td>132.48</td>\n",
       "    </tr>\n",
       "    <tr>\n",
       "        <td>Poland</td>\n",
       "        <td>123.33</td>\n",
       "    </tr>\n",
       "    <tr>\n",
       "        <td>Spain</td>\n",
       "        <td>95.27</td>\n",
       "    </tr>\n",
       "    <tr>\n",
       "        <td>Iraq</td>\n",
       "        <td>84.54</td>\n",
       "    </tr>\n",
       "    <tr>\n",
       "        <td>Kenya</td>\n",
       "        <td>79.13</td>\n",
       "    </tr>\n",
       "    <tr>\n",
       "        <td>Morocco</td>\n",
       "        <td>74.62</td>\n",
       "    </tr>\n",
       "</table>"
      ],
      "text/plain": [
       "[('Bangladesh', 1138.07),\n",
       " ('Korea, South', 492.53),\n",
       " ('Philippines', 336.66),\n",
       " ('Japan', 335.84),\n",
       " ('Vietnam', 284.86),\n",
       " ('United Kingdom', 263.08),\n",
       " ('Germany', 226.47),\n",
       " ('Italy', 205.27),\n",
       " ('Uganda', 153.92),\n",
       " ('Thailand', 132.48),\n",
       " ('Poland', 123.33),\n",
       " ('Spain', 95.27),\n",
       " ('Iraq', 84.54),\n",
       " ('Kenya', 79.13),\n",
       " ('Morocco', 74.62)]"
      ]
     },
     "execution_count": 25,
     "metadata": {},
     "output_type": "execute_result"
    }
   ],
   "source": [
    "%%sql\n",
    "\n",
    "SELECT name, ROUND(CAST(population AS Float)/CAST(area AS Float),2) AS pop_area_ratio\n",
    "    FROM facts\n",
    "   WHERE population NOT IN ('None', '0') AND area NOT IN ('None', '0') AND population > (SELECT AVG(population) FROM facts WHERE population <> (SELECT MAX(population) FROM facts))\n",
    "   AND area < (SELECT AVG(area) FROM facts WHERE population <> (SELECT MAX(population) FROM facts))\n",
    "   ORDER BY pop_area_ratio DESC;"
   ]
  },
  {
   "cell_type": "markdown",
   "metadata": {},
   "source": [
    "**Conclusion**\n",
    "\n",
    "1. China is the country with maximum population, with Pitcairn Islands as the country with minimum population.\n",
    "2. There are several unhabitable countries in the world, such as Antarctica, and other islands and oceans.\n",
    "3. The world's average population is 32,242,667 and average area is 555,093.55. Indonesia's population and area are higher than these.\n",
    "4. The country with the highest growth rate is South Sudan, with Vatican as the country with the lowest growth rate.\n",
    "5. India has added more people into the world in 2016, followed by China and Nigeria. Indonesia is among the top 10.\n",
    "6. High death rates are found in Eastern Europe countries with Bulgaria at the top, while high birth rates are found in Middle Eastern countries with Gaza Strip at the top. Indonesia has higher birth rate than death rate.\n",
    "7. Asia has 3 most crowded countries in the world, which are Macau, Hong Kong and Singapore.\n",
    "8. The area water and area land data might not be that accurate."
   ]
  },
  {
   "cell_type": "code",
   "execution_count": null,
   "metadata": {},
   "outputs": [],
   "source": []
  }
 ],
 "metadata": {
  "kernelspec": {
   "display_name": "Python 3",
   "language": "python",
   "name": "python3"
  },
  "language_info": {
   "codemirror_mode": {
    "name": "ipython",
    "version": 3
   },
   "file_extension": ".py",
   "mimetype": "text/x-python",
   "name": "python",
   "nbconvert_exporter": "python",
   "pygments_lexer": "ipython3",
   "version": "3.8.8"
  }
 },
 "nbformat": 4,
 "nbformat_minor": 4
}
