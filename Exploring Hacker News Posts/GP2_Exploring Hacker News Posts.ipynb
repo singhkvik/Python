{
 "cells": [
  {
   "cell_type": "markdown",
   "metadata": {},
   "source": [
    "# Exploring Hacker News Posts \n",
    "\n",
    "Hacker News is a site started by the startup incubator Y Combinator, where user-submitted stories (known as \"posts\") are voted and commented upon, similar to reddit. Hacker News is extremely popular in technology and startup circles, and posts that make it to the top of Hacker News' listings can get hundreds of thousands of visitors as a result.\n",
    "\n",
    "We're specifically interested in posts whose titles begin with either Ask HN or Show HN. Users submit Ask HN posts to ask the Hacker News community a specific question. Likewise, users submit Show HN posts to show the Hacker News community a project, product, or just generally something interesting.\n",
    "\n",
    "We'll compare these two types of posts to determine the following:\n",
    "\n",
    "    1. Do Ask HN or Show HN receive more comments on average?\n",
    "    2. Do posts created at a certain time receive more comments on average?"
   ]
  },
  {
   "cell_type": "code",
   "execution_count": 1,
   "metadata": {},
   "outputs": [
    {
     "name": "stdout",
     "output_type": "stream",
     "text": [
      "['id', 'title', 'url', 'num_points', 'num_comments', 'author', 'created_at']\n",
      "\n",
      "\n"
     ]
    },
    {
     "data": {
      "text/plain": [
       "[['12578975',\n",
       "  'Saving the Hassle of Shopping',\n",
       "  'https://blog.menswr.com/2016/09/07/whats-new-with-your-style-feed/',\n",
       "  '1',\n",
       "  '1',\n",
       "  'bdoux',\n",
       "  '9/26/2016 3:13'],\n",
       " ['12578908',\n",
       "  'Ask HN: What TLD do you use for local development?',\n",
       "  '',\n",
       "  '4',\n",
       "  '7',\n",
       "  'Sevrene',\n",
       "  '9/26/2016 2:53'],\n",
       " ['12578822',\n",
       "  'Amazons Algorithms Dont Find You the Best Deals',\n",
       "  'https://www.technologyreview.com/s/602442/amazons-algorithms-dont-find-you-the-best-deals/',\n",
       "  '1',\n",
       "  '1',\n",
       "  'yarapavan',\n",
       "  '9/26/2016 2:26'],\n",
       " ['12578694',\n",
       "  'Emergency dose of epinephrine that does not cost an arm and a leg',\n",
       "  'http://m.imgur.com/gallery/th6Ua',\n",
       "  '2',\n",
       "  '1',\n",
       "  'dredmorbius',\n",
       "  '9/26/2016 1:54'],\n",
       " ['12578624',\n",
       "  'Phone Makers Could Cut Off Drivers. So Why Dont They?',\n",
       "  'http://www.nytimes.com/2016/09/25/technology/phone-makers-could-cut-off-drivers-so-why-dont-they.html',\n",
       "  '4',\n",
       "  '1',\n",
       "  'danso',\n",
       "  '9/26/2016 1:37']]"
      ]
     },
     "execution_count": 1,
     "metadata": {},
     "output_type": "execute_result"
    }
   ],
   "source": [
    "# Import the dataset as list of list\n",
    "from csv import reader\n",
    "opened_file = open(\"hacker_news.csv\", encoding=\"utf8\")\n",
    "read_file = reader(opened_file)\n",
    "hn = list(read_file)\n",
    "\n",
    "hn_header = hn[0]          # saving the header separately \n",
    "hn = hn[1:]                # list of list without the header  \n",
    "\n",
    "\n",
    "# Explore the dataset\n",
    "print(hn_header)\n",
    "print(\"\\n\")\n",
    "hn[:5]"
   ]
  },
  {
   "cell_type": "markdown",
   "metadata": {},
   "source": [
    "### Separate the posts starting with Ask HN and Show HN"
   ]
  },
  {
   "cell_type": "code",
   "execution_count": 2,
   "metadata": {},
   "outputs": [
    {
     "name": "stdout",
     "output_type": "stream",
     "text": [
      "6911\n",
      "5059\n",
      "68431\n"
     ]
    }
   ],
   "source": [
    "ask_posts = []\n",
    "show_posts = []\n",
    "other_posts = []\n",
    "\n",
    "for row in hn:\n",
    "    title = row[1]\n",
    "    \n",
    "    if title.lower().startswith(\"ask hn\"):\n",
    "        ask_posts.append(row)\n",
    "    elif title.lower().startswith(\"show hn\"):\n",
    "        show_posts.append(row)\n",
    "    else:\n",
    "        other_posts.append(row)\n",
    "        \n",
    "print(len(ask_posts))\n",
    "print(len(show_posts))\n",
    "print(len(other_posts)) \n",
    "    "
   ]
  },
  {
   "cell_type": "markdown",
   "metadata": {},
   "source": [
    "### Ask or Show posts receive more comments on average?"
   ]
  },
  {
   "cell_type": "code",
   "execution_count": 3,
   "metadata": {},
   "outputs": [
    {
     "name": "stdout",
     "output_type": "stream",
     "text": [
      "94986\n",
      "13.744175951381855\n"
     ]
    }
   ],
   "source": [
    "total_ask_comments = 0\n",
    "counter = 0\n",
    "\n",
    "for row in ask_posts:\n",
    "    n_comments = int(row[4])\n",
    "    total_ask_comments += n_comments\n",
    "    counter += 1\n",
    "    \n",
    "avg_ask_comments = total_ask_comments/counter\n",
    "print(total_ask_comments)\n",
    "print(avg_ask_comments)"
   ]
  },
  {
   "cell_type": "code",
   "execution_count": 4,
   "metadata": {},
   "outputs": [
    {
     "name": "stdout",
     "output_type": "stream",
     "text": [
      "49633\n",
      "9.810832180272781\n"
     ]
    }
   ],
   "source": [
    "total_show_comments = 0\n",
    "counter = 0\n",
    "\n",
    "for row in show_posts:\n",
    "    n_comments = int(row[4])\n",
    "    total_show_comments += n_comments\n",
    "    counter += 1\n",
    "    \n",
    "avg_show_comments = total_show_comments/counter\n",
    "print(total_show_comments)\n",
    "print(avg_show_comments)"
   ]
  },
  {
   "cell_type": "markdown",
   "metadata": {},
   "source": [
    "From the analysis done above we can see clearly that Ask HN receives almost double number of comments compared to Show HN per posts."
   ]
  },
  {
   "cell_type": "markdown",
   "metadata": {},
   "source": [
    "### Does ask posts created at a certain time are more likely to attract comments?\n",
    "\n",
    "We'll use the following steps to perform this analysis:\n",
    "\n",
    "    1. Calculate the amount of ask posts created in each hour of the day, along with the number of comments received.\n",
    "    2. Calculate the average number of comments ask posts receive by hour created."
   ]
  },
  {
   "cell_type": "code",
   "execution_count": 5,
   "metadata": {},
   "outputs": [
    {
     "data": {
      "text/plain": [
       "{'02': 227,\n",
       " '01': 223,\n",
       " '22': 287,\n",
       " '21': 407,\n",
       " '19': 420,\n",
       " '17': 404,\n",
       " '15': 467,\n",
       " '14': 378,\n",
       " '13': 326,\n",
       " '11': 251,\n",
       " '10': 219,\n",
       " '09': 176,\n",
       " '07': 157,\n",
       " '03': 212,\n",
       " '16': 415,\n",
       " '08': 190,\n",
       " '00': 231,\n",
       " '23': 276,\n",
       " '20': 392,\n",
       " '18': 452,\n",
       " '12': 274,\n",
       " '04': 186,\n",
       " '06': 176,\n",
       " '05': 165}"
      ]
     },
     "execution_count": 5,
     "metadata": {},
     "output_type": "execute_result"
    }
   ],
   "source": [
    "# 1. Calculate the amount of ask posts created in each hour of the day, along with the number of comments received.\n",
    "\n",
    "import datetime as dt\n",
    "result_list = []\n",
    "\n",
    "for row in ask_posts:\n",
    "    created_at = row[-1]\n",
    "    n_comments = int(row[-3])\n",
    "   \n",
    "    result_list.append([created_at,n_comments])\n",
    "\n",
    "posts_by_hour = {}\n",
    "comments_by_hour = {}\n",
    "for row in result_list:\n",
    "    datetime_str = row[0]\n",
    "    datetime_dt = dt.datetime.strptime(datetime_str,\"%m/%d/%Y %H:%M\")\n",
    "    hr_post = datetime_dt.strftime(\"%H\")\n",
    "    \n",
    "    if hr_post not in posts_by_hour:\n",
    "        posts_by_hour[hr_post] = 1\n",
    "        comments_by_hour[hr_post] = row[1]\n",
    "    else:\n",
    "        posts_by_hour[hr_post] += 1\n",
    "        comments_by_hour[hr_post] += row[1]\n",
    "\n",
    "posts_by_hour"
   ]
  },
  {
   "cell_type": "code",
   "execution_count": 6,
   "metadata": {},
   "outputs": [
    {
     "data": {
      "text/plain": [
       "[['02', 13.198237885462555],\n",
       " ['01', 9.367713004484305],\n",
       " ['22', 11.749128919860627],\n",
       " ['21', 11.056511056511056],\n",
       " ['19', 9.414285714285715],\n",
       " ['17', 13.73019801980198],\n",
       " ['15', 39.66809421841542],\n",
       " ['14', 13.153439153439153],\n",
       " ['13', 22.2239263803681],\n",
       " ['11', 11.143426294820717],\n",
       " ['10', 13.757990867579908],\n",
       " ['09', 8.392045454545455],\n",
       " ['07', 10.095541401273886],\n",
       " ['03', 10.160377358490566],\n",
       " ['16', 10.76144578313253],\n",
       " ['08', 12.43157894736842],\n",
       " ['00', 9.857142857142858],\n",
       " ['23', 8.322463768115941],\n",
       " ['20', 11.38265306122449],\n",
       " ['18', 10.789823008849558],\n",
       " ['12', 15.452554744525548],\n",
       " ['04', 12.688172043010752],\n",
       " ['06', 9.017045454545455],\n",
       " ['05', 11.139393939393939]]"
      ]
     },
     "execution_count": 6,
     "metadata": {},
     "output_type": "execute_result"
    }
   ],
   "source": [
    "# 2. Calculate the average number of comments ask posts received by hour created.\n",
    "\n",
    "avg_by_hour = []\n",
    "\n",
    "for key in posts_by_hour:    \n",
    "    avg_by_hour.append([key, comments_by_hour[key]/posts_by_hour[key]])\n",
    "\n",
    "avg_by_hour  "
   ]
  },
  {
   "cell_type": "markdown",
   "metadata": {},
   "source": [
    "### Sorting the list of avg number of comments/post by hour"
   ]
  },
  {
   "cell_type": "code",
   "execution_count": 7,
   "metadata": {},
   "outputs": [
    {
     "data": {
      "text/plain": [
       "[[13.198237885462555, '02'],\n",
       " [9.367713004484305, '01'],\n",
       " [11.749128919860627, '22'],\n",
       " [11.056511056511056, '21'],\n",
       " [9.414285714285715, '19'],\n",
       " [13.73019801980198, '17'],\n",
       " [39.66809421841542, '15'],\n",
       " [13.153439153439153, '14'],\n",
       " [22.2239263803681, '13'],\n",
       " [11.143426294820717, '11'],\n",
       " [13.757990867579908, '10'],\n",
       " [8.392045454545455, '09'],\n",
       " [10.095541401273886, '07'],\n",
       " [10.160377358490566, '03'],\n",
       " [10.76144578313253, '16'],\n",
       " [12.43157894736842, '08'],\n",
       " [9.857142857142858, '00'],\n",
       " [8.322463768115941, '23'],\n",
       " [11.38265306122449, '20'],\n",
       " [10.789823008849558, '18'],\n",
       " [15.452554744525548, '12'],\n",
       " [12.688172043010752, '04'],\n",
       " [9.017045454545455, '06'],\n",
       " [11.139393939393939, '05']]"
      ]
     },
     "execution_count": 7,
     "metadata": {},
     "output_type": "execute_result"
    }
   ],
   "source": [
    "swap_avg_by_hour = []\n",
    "\n",
    "for row in avg_by_hour:\n",
    "    swap_avg_by_hour.append([row[1],row[0]])\n",
    "    \n",
    "swap_avg_by_hour"
   ]
  },
  {
   "cell_type": "code",
   "execution_count": 8,
   "metadata": {},
   "outputs": [
    {
     "data": {
      "text/plain": [
       "[[39.66809421841542, '15'],\n",
       " [22.2239263803681, '13'],\n",
       " [15.452554744525548, '12'],\n",
       " [13.757990867579908, '10'],\n",
       " [13.73019801980198, '17'],\n",
       " [13.198237885462555, '02'],\n",
       " [13.153439153439153, '14'],\n",
       " [12.688172043010752, '04'],\n",
       " [12.43157894736842, '08'],\n",
       " [11.749128919860627, '22'],\n",
       " [11.38265306122449, '20'],\n",
       " [11.143426294820717, '11'],\n",
       " [11.139393939393939, '05'],\n",
       " [11.056511056511056, '21'],\n",
       " [10.789823008849558, '18'],\n",
       " [10.76144578313253, '16'],\n",
       " [10.160377358490566, '03'],\n",
       " [10.095541401273886, '07'],\n",
       " [9.857142857142858, '00'],\n",
       " [9.414285714285715, '19'],\n",
       " [9.367713004484305, '01'],\n",
       " [9.017045454545455, '06'],\n",
       " [8.392045454545455, '09'],\n",
       " [8.322463768115941, '23']]"
      ]
     },
     "execution_count": 8,
     "metadata": {},
     "output_type": "execute_result"
    }
   ],
   "source": [
    "sorted_swap = sorted(swap_avg_by_hour, reverse=True)\n",
    "\n",
    "sorted_swap"
   ]
  },
  {
   "cell_type": "code",
   "execution_count": 9,
   "metadata": {},
   "outputs": [
    {
     "name": "stdout",
     "output_type": "stream",
     "text": [
      "15:00 39.67 average comments per post\n",
      "13:00 22.22 average comments per post\n",
      "12:00 15.45 average comments per post\n",
      "10:00 13.76 average comments per post\n",
      "17:00 13.73 average comments per post\n",
      "02:00 13.20 average comments per post\n",
      "14:00 13.15 average comments per post\n",
      "04:00 12.69 average comments per post\n",
      "08:00 12.43 average comments per post\n",
      "22:00 11.75 average comments per post\n",
      "20:00 11.38 average comments per post\n",
      "11:00 11.14 average comments per post\n",
      "05:00 11.14 average comments per post\n",
      "21:00 11.06 average comments per post\n",
      "18:00 10.79 average comments per post\n",
      "16:00 10.76 average comments per post\n",
      "03:00 10.16 average comments per post\n",
      "07:00 10.10 average comments per post\n",
      "00:00 9.86 average comments per post\n",
      "19:00 9.41 average comments per post\n",
      "01:00 9.37 average comments per post\n",
      "06:00 9.02 average comments per post\n",
      "09:00 8.39 average comments per post\n",
      "23:00 8.32 average comments per post\n"
     ]
    }
   ],
   "source": [
    "for row in sorted_swap:\n",
    "    dt_object = dt.datetime.strptime(row[1],\"%H\")\n",
    "    dt_hour = dt_object.strftime(\"%H:%M\")\n",
    "    avg_comments = row[0]\n",
    "    \n",
    "    print(\"{} {:.2f} average comments per post\".format(dt_hour,avg_comments))"
   ]
  },
  {
   "cell_type": "code",
   "execution_count": null,
   "metadata": {},
   "outputs": [],
   "source": []
  }
 ],
 "metadata": {
  "kernelspec": {
   "display_name": "Python 3",
   "language": "python",
   "name": "python3"
  },
  "language_info": {
   "codemirror_mode": {
    "name": "ipython",
    "version": 3
   },
   "file_extension": ".py",
   "mimetype": "text/x-python",
   "name": "python",
   "nbconvert_exporter": "python",
   "pygments_lexer": "ipython3",
   "version": "3.7.6"
  }
 },
 "nbformat": 4,
 "nbformat_minor": 4
}
